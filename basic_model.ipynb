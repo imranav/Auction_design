{
 "cells": [
  {
   "cell_type": "code",
   "execution_count": 256,
   "metadata": {},
   "outputs": [],
   "source": [
    "import numpy as np\n",
    "import matplotlib.pyplot as plt\n",
    "from scipy.stats import norm\n",
    "from scipy.optimize import brentq\n",
    "from sklearn.linear_model import SGDRegressor\n",
    "\n"
   ]
  },
  {
   "cell_type": "markdown",
   "metadata": {},
   "source": [
    "### Virtual valuation and Reserve price calculator"
   ]
  },
  {
   "cell_type": "code",
   "execution_count": 257,
   "metadata": {},
   "outputs": [],
   "source": [
    "class VirtualValuationCalculator:\n",
    "    def virtual_valuation(self, v, mean, stddev):\n",
    "        f_cdf = norm.cdf(v, loc=mean, scale=stddev)\n",
    "        f_pdf = norm.pdf(v, loc=mean, scale=stddev)\n",
    "        return v - (1 - f_cdf) / f_pdf\n",
    "\n",
    "\n",
    "class ReservePriceCalculator(VirtualValuationCalculator):\n",
    "    def __init__(self, means, stddevs):\n",
    "        self.means = means\n",
    "        self.stddevs = stddevs\n",
    "\n",
    "    def phi_inverse_0(self, mean, stddev):\n",
    "        def phi(v):\n",
    "            return self.virtual_valuation(v, mean, stddev)  \n",
    "\n",
    "        v_low = mean - 3 * stddev  # Lower bound for root-finding\n",
    "        v_high = mean + 3 * stddev  # Upper bound for root-finding\n",
    "        reserve_price = brentq(phi, v_low, v_high)\n",
    "        \n",
    "        return reserve_price\n",
    "\n",
    "    def calculate_reserve_prices(self):\n",
    "        reserve_prices = []\n",
    "        for mean, stddev in zip(self.means, self.stddevs):\n",
    "            r_star = self.phi_inverse_0(mean, stddev)\n",
    "            reserve_prices.append(r_star)\n",
    "        return reserve_prices\n",
    "    "
   ]
  },
  {
   "cell_type": "markdown",
   "metadata": {},
   "source": [
    "### Set up participant data"
   ]
  },
  {
   "cell_type": "code",
   "execution_count": 258,
   "metadata": {},
   "outputs": [],
   "source": [
    "# Example usage\n",
    "np.random.seed(42)\n",
    "\n",
    "# Simulating participants\n",
    "num_participants = 10\n",
    "\n",
    "true_means = np.random.uniform(50, 150, num_participants)  # True means of participants\n",
    "\n",
    "initial_guess = 100 # Prior guess for every participant\n",
    "\n",
    "est_means = np.full(num_participants, initial_guess) #array of these guesses which will be altered iteratively\n",
    "\n",
    "# Store participant data\n",
    "participants = {\n",
    "    i: {\n",
    "        \"true_mean\": true_means[i],\n",
    "        \"estimated_mean\": est_means[i],\n",
    "    }\n",
    "    for i in range(num_participants)\n",
    "}"
   ]
  },
  {
   "cell_type": "code",
   "execution_count": 254,
   "metadata": {},
   "outputs": [],
   "source": [
    "stddevs = np.full(num_participants, 5) # Fixed standard deviation of 5 for simplicity of model"
   ]
  },
  {
   "cell_type": "markdown",
   "metadata": {},
   "source": [
    "### Update particpant information to include true reserve pricing"
   ]
  },
  {
   "cell_type": "code",
   "execution_count": 260,
   "metadata": {},
   "outputs": [
    {
     "name": "stdout",
     "output_type": "stream",
     "text": [
      "Participant 1: {'true_mean': 87.45401188473625, 'estimated_mean': 100, 'true_reserve_price': 77.82702917193446}\n",
      "Participant 2: {'true_mean': 145.07143064099162, 'estimated_mean': 100, 'true_reserve_price': 134.15087322892364}\n",
      "Participant 3: {'true_mean': 123.1993941811405, 'estimated_mean': 100, 'true_reserve_price': 112.67800408478666}\n",
      "Participant 4: {'true_mean': 109.86584841970367, 'estimated_mean': 100, 'true_reserve_price': 99.6342731799071}\n",
      "Participant 5: {'true_mean': 65.60186404424365, 'estimated_mean': 100, 'true_reserve_price': 56.79570493836255}\n",
      "Participant 6: {'true_mean': 65.59945203362027, 'estimated_mean': 100, 'true_reserve_price': 56.7934025369315}\n",
      "Participant 7: {'true_mean': 55.80836121681995, 'estimated_mean': 100, 'true_reserve_price': 47.496608820983724}\n",
      "Participant 8: {'true_mean': 136.61761457749353, 'estimated_mean': 100, 'true_reserve_price': 125.84183888351781}\n",
      "Participant 9: {'true_mean': 110.11150117432088, 'estimated_mean': 100, 'true_reserve_price': 99.87419136028916}\n",
      "Participant 10: {'true_mean': 120.80725777960456, 'estimated_mean': 100, 'true_reserve_price': 110.33486965151856}\n"
     ]
    }
   ],
   "source": [
    "# Initialize ReservePriceCalculator with true means and stddevs\n",
    "calculator = ReservePriceCalculator(true_means, stddevs)\n",
    "\n",
    "# Calculate reserve prices for all participants\n",
    "true_reserve_prices = calculator.calculate_reserve_prices()\n",
    "\n",
    "# Update participant data with true reserve prices\n",
    "for i, reserve_price in enumerate(true_reserve_prices):\n",
    "    participants[i][\"true_reserve_price\"] = reserve_price\n",
    "\n",
    "# Print the results\n",
    "for i, data in participants.items() :\n",
    "    print(f\"Participant {i+1}: {data}\")\n"
   ]
  },
  {
   "cell_type": "markdown",
   "metadata": {},
   "source": [
    "### Include auctionner guess of reserve price per candidate"
   ]
  },
  {
   "cell_type": "code",
   "execution_count": 261,
   "metadata": {},
   "outputs": [
    {
     "name": "stdout",
     "output_type": "stream",
     "text": [
      "Participant 1: {'true_mean': 87.45401188473625, 'estimated_mean': 100, 'true_reserve_price': 77.82702917193446, 'Estimated_reserve_price': 90.01316311109564}\n",
      "Participant 2: {'true_mean': 145.07143064099162, 'estimated_mean': 100, 'true_reserve_price': 134.15087322892364, 'Estimated_reserve_price': 90.01316311109564}\n",
      "Participant 3: {'true_mean': 123.1993941811405, 'estimated_mean': 100, 'true_reserve_price': 112.67800408478666, 'Estimated_reserve_price': 90.01316311109564}\n",
      "Participant 4: {'true_mean': 109.86584841970367, 'estimated_mean': 100, 'true_reserve_price': 99.6342731799071, 'Estimated_reserve_price': 90.01316311109564}\n",
      "Participant 5: {'true_mean': 65.60186404424365, 'estimated_mean': 100, 'true_reserve_price': 56.79570493836255, 'Estimated_reserve_price': 90.01316311109564}\n",
      "Participant 6: {'true_mean': 65.59945203362027, 'estimated_mean': 100, 'true_reserve_price': 56.7934025369315, 'Estimated_reserve_price': 90.01316311109564}\n",
      "Participant 7: {'true_mean': 55.80836121681995, 'estimated_mean': 100, 'true_reserve_price': 47.496608820983724, 'Estimated_reserve_price': 90.01316311109564}\n",
      "Participant 8: {'true_mean': 136.61761457749353, 'estimated_mean': 100, 'true_reserve_price': 125.84183888351781, 'Estimated_reserve_price': 90.01316311109564}\n",
      "Participant 9: {'true_mean': 110.11150117432088, 'estimated_mean': 100, 'true_reserve_price': 99.87419136028916, 'Estimated_reserve_price': 90.01316311109564}\n",
      "Participant 10: {'true_mean': 120.80725777960456, 'estimated_mean': 100, 'true_reserve_price': 110.33486965151856, 'Estimated_reserve_price': 90.01316311109564}\n"
     ]
    }
   ],
   "source": [
    "# Initialize ReservePriceCalculator with estimated means and stddevs\n",
    "est_calculator = ReservePriceCalculator(est_means, stddevs)\n",
    "\n",
    "# Calculate reserve prices based on estimated means\n",
    "est_reserve_prices = est_calculator.calculate_reserve_prices()\n",
    "\n",
    "# Update participant data with estimated reserve prices\n",
    "for i, est_reserve in enumerate(est_reserve_prices):\n",
    "    participants[i]['Estimated_reserve_price'] = est_reserve\n",
    "\n",
    "# Print the results\n",
    "for i, data in participants.items():\n",
    "    print(f\"Participant {i+1}: {data}\")\n",
    " "
   ]
  },
  {
   "cell_type": "code",
   "execution_count": 262,
   "metadata": {},
   "outputs": [
    {
     "name": "stdout",
     "output_type": "stream",
     "text": [
      "Particpant 1: (77.82702917193446, 90.01316311109564)\n",
      "Particpant 2: (134.15087322892364, 90.01316311109564)\n",
      "Particpant 3: (112.67800408478666, 90.01316311109564)\n",
      "Particpant 4: (99.6342731799071, 90.01316311109564)\n",
      "Particpant 5: (56.79570493836255, 90.01316311109564)\n",
      "Particpant 6: (56.7934025369315, 90.01316311109564)\n",
      "Particpant 7: (47.496608820983724, 90.01316311109564)\n",
      "Particpant 8: (125.84183888351781, 90.01316311109564)\n",
      "Particpant 9: (99.87419136028916, 90.01316311109564)\n",
      "Particpant 10: (110.33486965151856, 90.01316311109564)\n"
     ]
    }
   ],
   "source": [
    "for i, data in participants.items():\n",
    "    print(f\"Particpant {i+1}: {data['true_reserve_price'],data['Estimated_reserve_price']}\")"
   ]
  },
  {
   "cell_type": "markdown",
   "metadata": {},
   "source": [
    "Eventually, we want to get the estimated reserve prices as close as possible to the true reserve pricings in order to optimsie our auction model."
   ]
  },
  {
   "cell_type": "markdown",
   "metadata": {},
   "source": [
    "### Payment using true reserve price"
   ]
  },
  {
   "cell_type": "code",
   "execution_count": 306,
   "metadata": {},
   "outputs": [],
   "source": [
    "class Auction:\n",
    "    def __init__(self, num_participants, stddevs, true_means):\n",
    "        self.num_participants = num_participants\n",
    "        self.stddevs = stddevs  \n",
    "        self.true_means = true_means\n",
    "        self.est_means = np.full(num_participants, 100)  \n",
    "\n",
    "        # Initialize ReservePriceCalculator with true means and standard deviations to calculate true reserve prices\n",
    "        self.true_reserve_price_calculator = ReservePriceCalculator(self.true_means, self.stddevs)\n",
    "        self.true_reserve_prices = self.true_reserve_price_calculator.calculate_reserve_prices()\n",
    "\n",
    "        \n",
    "        self.reserve_price_calculator = ReservePriceCalculator(self.est_means, self.stddevs)\n",
    "\n",
    "        # Store participants' data\n",
    "        self.participants = {\n",
    "            i: {\n",
    "                'true_mean': true_means[i],\n",
    "                'estimated_mean': self.est_means[i],\n",
    "                'true_reserve_price': self.true_reserve_prices[i],  # Keep true reserve prices\n",
    "                'Estimated_reserve_price': None,  # Will calculate this later based on estimated means\n",
    "            }\n",
    "            for i in range(num_participants)\n",
    "        }\n",
    "\n",
    "    def generate_bid(self, true_mean, stddev):\n",
    "        return norm.rvs(true_mean, stddev)\n",
    "\n",
    "    def run_auction(self):\n",
    "        \"\"\"\n",
    "        Run a single round of the auction.\n",
    "        \"\"\"\n",
    "        # Generate bids for all participants\n",
    "        bids = [self.generate_bid(mean, stddev) for mean, stddev in zip(self.true_means, self.stddevs)]\n",
    "\n",
    "        # Calculate estimated reserve prices based on estimated means\n",
    "        est_reserve_prices = self.reserve_price_calculator.calculate_reserve_prices()\n",
    "\n",
    "        # Find the highest bid and second-highest bid\n",
    "        sorted_bids = sorted(zip(bids, range(self.num_participants)), reverse=True)\n",
    "        highest_bid, highest_idx = sorted_bids[0]\n",
    "        second_highest_bid = sorted_bids[1][0]\n",
    "\n",
    "        # Check if the highest virtual valuation exceeds the reserve price\n",
    "        highest_virtual_valuation = self.reserve_price_calculator.virtual_valuation(\n",
    "            highest_bid, self.est_means[highest_idx], self.stddevs[highest_idx]\n",
    "        )\n",
    "        payment = None\n",
    "        if highest_virtual_valuation >= est_reserve_prices[highest_idx]:\n",
    "            # Item is allocated to highest bidder, apply payment rule\n",
    "            payment = max(second_highest_bid, est_reserve_prices[highest_idx])\n",
    "\n",
    "        # Update all participants' estimated means using their bids\n",
    "        self.update_estimates(bids)\n",
    "\n",
    "        # Recalculate the estimated reserve prices based on the updated estimated means\n",
    "        self.reserve_price_calculator = ReservePriceCalculator(self.est_means, self.stddevs)\n",
    "        est_reserve_prices = self.reserve_price_calculator.calculate_reserve_prices()\n",
    "\n",
    "        # Update participant data with the recalculated estimated reserve prices\n",
    "        for i, est_reserve in enumerate(est_reserve_prices):\n",
    "            self.participants[i]['Estimated_reserve_price'] = est_reserve\n",
    "\n",
    "        # Collect results for this round\n",
    "        round_results = {\n",
    "            \"bids\": bids,\n",
    "            \"true_reserve_prices\": self.true_reserve_prices,\n",
    "            \"est_reserve_prices\": est_reserve_prices,\n",
    "            \"highest_bid\": highest_bid,\n",
    "            \"highest_idx\": highest_idx,\n",
    "            \"second_highest_bid\": second_highest_bid,\n",
    "            \"payment\": payment,\n",
    "            \"updated_estimates\": self.est_means.copy(),\n",
    "        }\n",
    "\n",
    "        # Print round results\n",
    "        print(f\"Round Results:\")\n",
    "        print(f\"Bids: {bids}\")\n",
    "        print(f\"True Reserve Prices: {self.true_reserve_prices}\")\n",
    "        print(f\"Estimated Reserve Prices: {est_reserve_prices}\")\n",
    "        print(f\"Highest Bid: {highest_bid} by Participant {highest_idx + 1}\")\n",
    "        print(f\"Second Highest Bid: {second_highest_bid}\")\n",
    "        print(f\"Payment: {payment}\")\n",
    "        print(f\"Updated Estimates: {self.est_means}\")\n",
    "        print()\n",
    "\n",
    "        return round_results\n",
    "\n",
    "    def update_estimates(self, bids):\n",
    "        \"\"\"\n",
    "        Use SGD to update the estimated mean for each participant based on their bids.\n",
    "        \"\"\"\n",
    "        for idx, bid in enumerate(bids):\n",
    "            # Use a simple learning rate (eta) for manual SGD updates\n",
    "            learning_rate = 0.1\n",
    "            self.est_means[idx] = (1 - learning_rate) * self.est_means[idx] + learning_rate * bid\n",
    "\n",
    "\n",
    "# Run the auction simulation\n"
   ]
  },
  {
   "cell_type": "code",
   "execution_count": 308,
   "metadata": {},
   "outputs": [
    {
     "name": "stdout",
     "output_type": "stream",
     "text": [
      "--- Round 1 ---\n",
      "Round Results:\n",
      "Bids: [85.10663995506148, 147.78423085892143, 120.8823057170782, 107.53719965185238, 66.81167540207383, 56.033050810331275, 47.18377205425478, 133.80617693128866, 105.04734557264877, 122.37849444258093]\n",
      "True Reserve Prices: [77.82702917193446, 134.15087322892364, 112.67800408478666, 99.6342731799071, 56.79570493836255, 56.7934025369315, 47.496608820983724, 125.84183888351781, 99.87419136028916, 110.33486965151856]\n",
      "Estimated Reserve Prices: [88.06653537327269, 93.91038811293667, 91.9611343614835, 90.01316311109564, 86.12131642953085, 85.14925692003817, 84.17757622741432, 92.93560458097649, 90.01316311109564, 91.9611343614835]\n",
      "Highest Bid: 147.78423085892143 by Participant 2\n",
      "Second Highest Bid: 133.80617693128866\n",
      "Payment: 133.80617693128866\n",
      "Updated Estimates: [ 98 104 102 100  96  95  94 103 100 102]\n",
      "\n",
      "--- Round 2 ---\n",
      "Round Results:\n",
      "Bids: [82.91389150713019, 138.00991213431516, 130.52763802574827, 108.73696691727099, 65.93950506768327, 58.475711102552985, 53.086447594194034, 137.17222752604286, 104.35653328720936, 122.68574787133292]\n",
      "True Reserve Prices: [77.82702917193446, 134.15087322892364, 112.67800408478666, 99.6342731799071, 56.79570493836255, 56.7934025369315, 47.496608820983724, 125.84183888351781, 99.87419136028916, 110.33486965151856]\n",
      "Estimated Reserve Prices: [86.12131642953085, 96.83654952060877, 93.91038811293667, 90.01316311109564, 82.23538982241041, 81.26490426580477, 79.32520168992203, 95.86086726834426, 90.01316311109564, 93.91038811293667]\n",
      "Highest Bid: 138.00991213431516 by Participant 2\n",
      "Second Highest Bid: 137.17222752604286\n",
      "Payment: 137.17222752604286\n",
      "Updated Estimates: [ 96 107 104 100  92  91  89 106 100 104]\n",
      "\n",
      "--- Round 3 ---\n",
      "Round Results:\n",
      "Bids: [84.45081843514222, 143.61296189202523, 120.19086111999351, 119.12723934224836, 65.53437792055398, 60.310897388840765, 59.92108577733589, 130.51339632763842, 111.15581914934465, 111.00890716020568]\n",
      "True Reserve Prices: [77.82702917193446, 134.15087322892364, 112.67800408478666, 99.6342731799071, 56.79570493836255, 56.7934025369315, 47.496608820983724, 125.84183888351781, 99.87419136028916, 110.33486965151856]\n",
      "Estimated Reserve Prices: [84.17757622741432, 99.76529108591075, 94.88547793978468, 90.98698470616388, 79.32520168992203, 77.38726628964241, 76.41899136981262, 97.81251832496905, 90.98698470616388, 93.91038811293667]\n",
      "Highest Bid: 143.61296189202523 by Participant 2\n",
      "Second Highest Bid: 130.51339632763842\n",
      "Payment: 130.51339632763842\n",
      "Updated Estimates: [ 94 110 105 101  89  87  86 108 101 104]\n",
      "\n",
      "--- Round 4 ---\n",
      "Round Results:\n",
      "Bids: [80.81308164024409, 146.05573682033724, 126.89172708111755, 110.72268982565352, 65.02362263230245, 64.09393355567383, 48.41575126498281, 133.01839353551998, 107.80830731952194, 126.09286891069914]\n",
      "True Reserve Prices: [77.82702917193446, 134.15087322892364, 112.67800408478666, 99.6342731799071, 56.79570493836255, 56.7934025369315, 47.496608820983724, 125.84183888351781, 99.87419136028916, 110.33486965151856]\n",
      "Estimated Reserve Prices: [82.23538982241041, 102.6964510526994, 96.83654952060877, 90.98698470616388, 76.41899136981262, 74.48389148215944, 72.55081687096437, 99.76529108591075, 90.98698470616388, 95.86086726834426]\n",
      "Highest Bid: 146.05573682033724 by Participant 2\n",
      "Second Highest Bid: 133.01839353551998\n",
      "Payment: 133.01839353551998\n",
      "Updated Estimates: [ 92 113 107 101  86  84  82 110 101 106]\n",
      "\n",
      "--- Round 5 ---\n",
      "Round Results:\n",
      "Bids: [89.17210333257856, 136.25622986417795, 124.81981402811448, 107.94043701762209, 62.21725404271386, 68.65783347782461, 60.9633588292997, 141.27401517307453, 105.91541355820769, 119.26119590034848]\n",
      "True Reserve Prices: [77.82702917193446, 134.15087322892364, 112.67800408478666, 99.6342731799071, 56.79570493836255, 56.7934025369315, 47.496608820983724, 125.84183888351781, 99.87419136028916, 110.33486965151856]\n",
      "Estimated Reserve Prices: [81.26490426580477, 104.65182787199262, 97.81251832496905, 90.98698470616388, 73.51709383621704, 72.55081687096437, 69.65526434501231, 102.6964510526994, 90.98698470616388, 96.83654952060877]\n",
      "Highest Bid: 141.27401517307453 by Participant 8\n",
      "Second Highest Bid: 136.25622986417795\n",
      "Payment: 136.25622986417795\n",
      "Updated Estimates: [ 91 115 108 101  83  82  79 113 101 107]\n",
      "\n",
      "--- Round 6 ---\n",
      "Round Results:\n",
      "Bids: [89.11032904175407, 149.94915627660342, 120.80352299191405, 108.93755353638458, 60.07018917421351, 59.618418913216914, 59.87099032879094, 143.39881472034764, 109.75145056641921, 125.82492226906467]\n",
      "True Reserve Prices: [77.82702917193446, 134.15087322892364, 112.67800408478666, 99.6342731799071, 56.79570493836255, 56.7934025369315, 47.496608820983724, 125.84183888351781, 99.87419136028916, 110.33486965151856]\n",
      "Estimated Reserve Prices: [80.29483787217315, 107.58669701447366, 98.78876750787573, 90.98698470616388, 70.61988604733389, 69.65526434501231, 67.72779400404127, 105.629881910121, 90.98698470616388, 97.81251832496905]\n",
      "Highest Bid: 149.94915627660342 by Participant 2\n",
      "Second Highest Bid: 143.39881472034764\n",
      "Payment: 143.39881472034764\n",
      "Updated Estimates: [ 90 118 109 101  80  79  77 116 101 108]\n",
      "\n",
      "--- Round 7 ---\n",
      "Round Results:\n",
      "Bids: [89.26219200997441, 141.845831867966, 125.00637220868258, 117.5560312520335, 65.4227338486939, 73.4226703126903, 42.70963569637122, 140.72712709936965, 110.54673651551174, 119.31222102727521]\n",
      "True Reserve Prices: [77.82702917193446, 134.15087322892364, 112.67800408478666, 99.6342731799071, 56.79570493836255, 56.7934025369315, 47.496608820983724, 125.84183888351781, 99.87419136028916, 110.33486965151856]\n",
      "Estimated Reserve Prices: [79.32520168992203, 109.54442411498403, 99.76529108591075, 91.9611343614835, 68.69122770773103, 68.69122770773103, 63.8804745347438, 107.58669701447366, 90.98698470616388, 98.78876750787573]\n",
      "Highest Bid: 141.845831867966 by Participant 2\n",
      "Second Highest Bid: 140.72712709936965\n",
      "Payment: 140.72712709936965\n",
      "Updated Estimates: [ 89 120 110 102  78  78  73 118 101 109]\n",
      "\n",
      "--- Round 8 ---\n",
      "Round Results:\n",
      "Bids: [87.91281576741376, 135.13358606798715, 122.10103474195294, 111.6514112772624, 72.99133426795123, 63.00810094225203, 51.76589320235401, 134.10882935957085, 114.68851176283125, 122.45101332790298]\n",
      "True Reserve Prices: [77.82702917193446, 134.15087322892364, 112.67800408478666, 99.6342731799071, 56.79570493836255, 56.7934025369315, 47.496608820983724, 125.84183888351781, 99.87419136028916, 110.33486965151856]\n",
      "Estimated Reserve Prices: [78.35600719050773, 110.5236186317575, 100.74208325824438, 91.9611343614835, 67.72779400404127, 66.76498189270845, 61.00231933380685, 108.56544880289466, 91.9611343614835, 99.76529108591075]\n",
      "Highest Bid: 135.13358606798715 by Participant 2\n",
      "Second Highest Bid: 134.10882935957085\n",
      "Payment: 134.10882935957085\n",
      "Updated Estimates: [ 88 121 111 102  77  76  70 119 102 110]\n",
      "\n",
      "--- Round 9 ---\n",
      "Round Results:\n",
      "Bids: [84.80521086590105, 147.6377678065584, 123.6847819278807, 114.70907337236811, 62.091598574856896, 63.961141300631425, 53.84782045115916, 129.30003983683292, 111.59210255964376, 122.112534140504]\n",
      "True Reserve Prices: [77.82702917193446, 134.15087322892364, 112.67800408478666, 99.6342731799071, 56.79570493836255, 56.7934025369315, 47.496608820983724, 125.84183888351781, 99.87419136028916, 110.33486965151856]\n",
      "Estimated Reserve Prices: [77.38726628964241, 112.48264859758564, 101.71913839945626, 92.93560458097649, 65.80281086833432, 64.84130131021789, 59.08740150890602, 109.54442411498403, 91.9611343614835, 100.74208325824438]\n",
      "Highest Bid: 147.6377678065584 by Participant 2\n",
      "Second Highest Bid: 129.30003983683292\n",
      "Payment: 129.30003983683292\n",
      "Updated Estimates: [ 87 123 112 103  75  74  68 120 102 111]\n",
      "\n",
      "--- Round 10 ---\n",
      "Round Results:\n",
      "Bids: [87.47957916794856, 143.8984949741159, 116.12254047088844, 107.76262180587688, 63.88829146160981, 61.58806568751217, 55.0019326584899, 138.63786886156623, 119.54243068037353, 121.68014684376375]\n",
      "True Reserve Prices: [77.82702917193446, 134.15087322892364, 112.67800408478666, 99.6342731799071, 56.79570493836255, 56.7934025369315, 47.496608820983724, 125.84183888351781, 99.87419136028916, 110.33486965151856]\n",
      "Estimated Reserve Prices: [77.38726628964241, 114.44250646648476, 101.71913839945626, 92.93560458097649, 63.8804745347438, 62.92035285157672, 57.175820389145535, 110.5236186317575, 92.93560458097649, 101.71913839945626]\n",
      "Highest Bid: 143.8984949741159 by Participant 2\n",
      "Second Highest Bid: 138.63786886156623\n",
      "Payment: 138.63786886156623\n",
      "Updated Estimates: [ 87 125 112 103  73  72  66 121 103 112]\n",
      "\n"
     ]
    }
   ],
   "source": [
    "np.random.seed(42)\n",
    "num_participants = 10\n",
    "true_means = np.random.uniform(50, 150, num_participants)  # True means of participants\n",
    "stddevs = np.full(num_participants, 5)  # Array of standard deviations for each participant\n",
    "\n",
    "auction = Auction(num_participants, stddevs, true_means)\n",
    "\n",
    "# Simulate the auction for 10 rounds\n",
    "all_rounds_data = []\n",
    "for round_num in range(10):\n",
    "    print(f\"--- Round {round_num + 1} ---\")\n",
    "    round_data = auction.run_auction()\n",
    "    all_rounds_data.append(round_data)\n"
   ]
  },
  {
   "cell_type": "markdown",
   "metadata": {},
   "source": [
    "Problem: second highest bid is always higher than reserve price, resulting in no updates, might have to go back to iteravilty updating the means based on bids. Or, go more explotative, and try extract higher utility by setting a higher reserve price which is higher than second highest bid usually, has it trade offs where we might have rounds where we extract 0 profit but end up with more. If we can somehow set it up so that the reserve pricing updates based on average second highest price whilst taking into account the individual average means of each particpant? "
   ]
  },
  {
   "cell_type": "markdown",
   "metadata": {},
   "source": [
    "## changes need to be made, ie looking at the reserve price is being used, get a total utility function etc, may make a graph, framework there though."
   ]
  },
  {
   "cell_type": "markdown",
   "metadata": {},
   "source": [
    "### SGD probably not being used correctly, I like all the information being printed, inference not being done right?"
   ]
  }
 ],
 "metadata": {
  "kernelspec": {
   "display_name": "base",
   "language": "python",
   "name": "python3"
  },
  "language_info": {
   "codemirror_mode": {
    "name": "ipython",
    "version": 3
   },
   "file_extension": ".py",
   "mimetype": "text/x-python",
   "name": "python",
   "nbconvert_exporter": "python",
   "pygments_lexer": "ipython3",
   "version": "3.12.7"
  }
 },
 "nbformat": 4,
 "nbformat_minor": 2
}
